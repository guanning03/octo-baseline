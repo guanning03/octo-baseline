{
 "cells": [
  {
   "cell_type": "code",
   "execution_count": null,
   "metadata": {},
   "outputs": [],
   "source": [
    "from absl import app, flags, logging\n",
    "import flax\n",
    "import jax\n",
    "import optax\n",
    "import tensorflow as tf\n",
    "import tqdm\n",
    "import wandb\n",
    "\n",
    "from octo.data.dataset import make_single_dataset\n",
    "from octo.data.utils.data_utils import NormalizationType\n",
    "from octo.model.components.action_heads import L1ActionHead\n",
    "from octo.model.components.tokenizers import LowdimObsTokenizer\n",
    "from octo.model.octo_model import OctoModel\n",
    "from octo.utils.jax_utils import initialize_compilation_cache\n",
    "from octo.utils.spec import ModuleSpec\n",
    "from octo.utils.train_utils import (\n",
    "    freeze_weights,\n",
    "    merge_params,\n",
    "    process_text,\n",
    "    TrainState,\n",
    ")"
   ]
  },
  {
   "cell_type": "code",
   "execution_count": null,
   "metadata": {},
   "outputs": [],
   "source": [
    "dataset = make_single_dataset(\n",
    "    dataset_kwargs=dict(\n",
    "        name=\"aloha_sim_cube_scripted_dataset\",\n",
    "        data_dir='/root/autodl-fs/aloha_sim_dataset',\n",
    "        image_obs_keys={\"primary\": \"top\"},\n",
    "        state_obs_keys=[\"state\"],\n",
    "        language_key=\"language_instruction\",\n",
    "        action_proprio_normalization_type=NormalizationType.NORMAL,\n",
    "        absolute_action_mask=[True] * 14,\n",
    "    ),\n",
    "    traj_transform_kwargs=dict(\n",
    "        window_size=1,\n",
    "        future_action_window_size=49,  # so we get 50 actions for our action chunk\n",
    "    ),\n",
    "    frame_transform_kwargs=dict(\n",
    "        resize_size={\"primary\": (256, 256)},\n",
    "    ),\n",
    "    train=True,\n",
    ")\n",
    "original_dataset = dataset"
   ]
  },
  {
   "cell_type": "code",
   "execution_count": null,
   "metadata": {},
   "outputs": [],
   "source": [
    "train_data_iter = (\n",
    "    dataset.repeat()\n",
    "    .unbatch()\n",
    "    .shuffle(10000)  # can reduce this if RAM consumption too high\n",
    "    .batch(128)\n",
    "    .iterator()\n",
    ")"
   ]
  },
  {
   "cell_type": "code",
   "execution_count": null,
   "metadata": {},
   "outputs": [],
   "source": [
    "pretrained_model = OctoModel.load_pretrained('./weights/octo-base')\n",
    "text_processor = pretrained_model.text_processor\n",
    "def process_batch(batch):\n",
    "    batch = process_text(batch, text_processor)\n",
    "    del batch[\"dataset_name\"]\n",
    "    return batch\n",
    "train_data_iter = map(process_batch, train_data_iter)"
   ]
  },
  {
   "cell_type": "code",
   "execution_count": null,
   "metadata": {},
   "outputs": [],
   "source": [
    "import json\n",
    "print(json.dumps(pretrained_model.config, indent = 4))"
   ]
  },
  {
   "cell_type": "code",
   "execution_count": null,
   "metadata": {},
   "outputs": [],
   "source": [
    "example_batch = next(train_data_iter)"
   ]
  },
  {
   "cell_type": "code",
   "execution_count": null,
   "metadata": {},
   "outputs": [],
   "source": [
    "import jax.numpy as jnp\n",
    "import numpy as np\n",
    "import json\n",
    "\n",
    "def print_shape_or_value(x):\n",
    "    if isinstance(x, (jnp.ndarray, np.ndarray, tf.Tensor)):\n",
    "        return f\"Shape: {x.shape}\"\n",
    "    else:\n",
    "        return x\n",
    "\n",
    "def apply_to_nested_dict(func, d):\n",
    "    if isinstance(d, dict):\n",
    "        return {k: apply_to_nested_dict(func, v) for k, v in d.items()}\n",
    "    else:\n",
    "        return func(d)\n",
    "\n",
    "converted_tree = jax.tree_util.tree_map(print_shape_or_value, example_batch)\n",
    "formatted_output = json.dumps(converted_tree, indent=4)\n",
    "print(formatted_output)"
   ]
  },
  {
   "cell_type": "code",
   "execution_count": null,
   "metadata": {},
   "outputs": [],
   "source": [
    "print(example_batch['task']['language_instruction']['attention_mask'][0])"
   ]
  },
  {
   "cell_type": "code",
   "execution_count": null,
   "metadata": {},
   "outputs": [],
   "source": [
    "print(example_batch['task']['language_instruction']['input_ids'][0])"
   ]
  },
  {
   "cell_type": "code",
   "execution_count": null,
   "metadata": {},
   "outputs": [],
   "source": [
    "print(example_batch['task']['pad_mask_dict']['language_instruction'][0])"
   ]
  },
  {
   "cell_type": "code",
   "execution_count": null,
   "metadata": {},
   "outputs": [],
   "source": [
    "cnt = 0\n",
    "for batch in original_dataset:\n",
    "    cnt += 1\n",
    "    print(json.dumps(apply_to_nested_dict(print_shape_or_value,batch), indent = 4))\n",
    "print(400*cnt)"
   ]
  }
 ],
 "metadata": {
  "kernelspec": {
   "display_name": "octo",
   "language": "python",
   "name": "python3"
  },
  "language_info": {
   "codemirror_mode": {
    "name": "ipython",
    "version": 3
   },
   "file_extension": ".py",
   "mimetype": "text/x-python",
   "name": "python",
   "nbconvert_exporter": "python",
   "pygments_lexer": "ipython3",
   "version": "3.10.14"
  }
 },
 "nbformat": 4,
 "nbformat_minor": 2
}
