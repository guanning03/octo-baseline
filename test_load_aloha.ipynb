{
 "cells": [
  {
   "cell_type": "code",
   "execution_count": 1,
   "metadata": {},
   "outputs": [
    {
     "name": "stderr",
     "output_type": "stream",
     "text": [
      "2024-04-18 17:26:49.248883: I tensorflow/core/util/port.cc:113] oneDNN custom operations are on. You may see slightly different numerical results due to floating-point round-off errors from different computation orders. To turn them off, set the environment variable `TF_ENABLE_ONEDNN_OPTS=0`.\n",
      "2024-04-18 17:26:49.302925: E external/local_xla/xla/stream_executor/cuda/cuda_dnn.cc:9261] Unable to register cuDNN factory: Attempting to register factory for plugin cuDNN when one has already been registered\n",
      "2024-04-18 17:26:49.302962: E external/local_xla/xla/stream_executor/cuda/cuda_fft.cc:607] Unable to register cuFFT factory: Attempting to register factory for plugin cuFFT when one has already been registered\n",
      "2024-04-18 17:26:49.304808: E external/local_xla/xla/stream_executor/cuda/cuda_blas.cc:1515] Unable to register cuBLAS factory: Attempting to register factory for plugin cuBLAS when one has already been registered\n",
      "2024-04-18 17:26:49.314591: I tensorflow/core/platform/cpu_feature_guard.cc:182] This TensorFlow binary is optimized to use available CPU instructions in performance-critical operations.\n",
      "To enable the following instructions: AVX2 AVX512F AVX512_VNNI AVX512_BF16 AVX_VNNI AMX_TILE AMX_INT8 AMX_BF16 FMA, in other operations, rebuild TensorFlow with the appropriate compiler flags.\n",
      "2024-04-18 17:26:50.331760: W tensorflow/compiler/tf2tensorrt/utils/py_utils.cc:38] TF-TRT Warning: Could not find TensorRT\n",
      "2024-04-18 17:26:56.109528: I tensorflow/core/common_runtime/gpu/gpu_device.cc:1929] Created device /job:localhost/replica:0/task:0/device:GPU:0 with 22283 MB memory:  -> device: 0, name: NVIDIA GeForce RTX 4090, pci bus id: 0000:98:00.0, compute capability: 8.9\n"
     ]
    },
    {
     "name": "stdout",
     "output_type": "stream",
     "text": [
      "<class 'dlimp.dataset.DLataset'>\n",
      "successfully loaded dataset\n",
      "{\n",
      "    \"action\": \"Shape: (500, 14)\",\n",
      "    \"base_action\": \"Shape: (500, 2)\",\n",
      "    \"instruction\": \"Shape: (500,)\",\n",
      "    \"observation\": {\n",
      "        \"cam_high\": \"Shape: (500,)\",\n",
      "        \"cam_left_wrist\": \"Shape: (500,)\",\n",
      "        \"cam_right_wrist\": \"Shape: (500,)\"\n",
      "    },\n",
      "    \"qpos\": \"Shape: (500, 14)\",\n",
      "    \"qvel\": \"Shape: (500, 14)\",\n",
      "    \"terminate_episode\": \"Shape: (500,)\"\n",
      "}\n",
      "{\n",
      "    \"action\": \"Shape: (500, 14)\",\n",
      "    \"base_action\": \"Shape: (500, 2)\",\n",
      "    \"instruction\": \"Shape: (500,)\",\n",
      "    \"observation\": {\n",
      "        \"cam_high\": \"Shape: (500,)\",\n",
      "        \"cam_left_wrist\": \"Shape: (500,)\",\n",
      "        \"cam_right_wrist\": \"Shape: (500,)\"\n",
      "    },\n",
      "    \"qpos\": \"Shape: (500, 14)\",\n",
      "    \"qvel\": \"Shape: (500, 14)\",\n",
      "    \"terminate_episode\": \"Shape: (500,)\"\n",
      "}\n"
     ]
    }
   ],
   "source": [
    "from octo.data.cobot.standard_dataload import load_dataset_from_tfrecords, load_dataset_from_hdf5\n",
    "from octo.data.utils.format import pytree_display\n",
    "from dlimp.dataset import _wrap\n",
    "\n",
    "\n",
    "dataset_path = '/root/autodl-tmp/cobot_magic'\n",
    "\n",
    "if __name__ == '__main__':\n",
    "    dataset = _wrap(load_dataset_from_hdf5, False)(dataset_path)\n",
    "    print(type(dataset))\n",
    "    print('successfully loaded dataset')\n",
    "    for item in dataset.take(2):\n",
    "        pytree_display(item)\n"
   ]
  }
 ],
 "metadata": {
  "kernelspec": {
   "display_name": "base",
   "language": "python",
   "name": "python3"
  },
  "language_info": {
   "codemirror_mode": {
    "name": "ipython",
    "version": 3
   },
   "file_extension": ".py",
   "mimetype": "text/x-python",
   "name": "python",
   "nbconvert_exporter": "python",
   "pygments_lexer": "ipython3",
   "version": "3.10.8"
  }
 },
 "nbformat": 4,
 "nbformat_minor": 2
}
