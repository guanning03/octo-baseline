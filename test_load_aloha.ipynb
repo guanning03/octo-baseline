{
 "cells": [
  {
   "cell_type": "code",
   "execution_count": null,
   "metadata": {},
   "outputs": [],
   "source": [
    "from octo.data.gsm.aloha_mobile import load_dataset_from_tfrecords, load_dataset_from_hdf5\n",
    "from octo.data.utils.format import pytree_display\n",
    "\n",
    "dataset_path = '/root/autodl-tmp/test'\n",
    "\n",
    "if __name__ == '__main__':\n",
    "    dataset = load_dataset_from_hdf5(dataset_path)\n",
    "    print(type(dataset))\n",
    "    print('successfully loaded dataset')\n",
    "    for item in dataset.take(2):\n",
    "        pytree_display(item)\n",
    "        print(item['observation']['cam_high'])"
   ]
  }
 ],
 "metadata": {
  "kernelspec": {
   "display_name": "base",
   "language": "python",
   "name": "python3"
  },
  "language_info": {
   "codemirror_mode": {
    "name": "ipython",
    "version": 3
   },
   "file_extension": ".py",
   "mimetype": "text/x-python",
   "name": "python",
   "nbconvert_exporter": "python",
   "pygments_lexer": "ipython3",
   "version": "3.10.8"
  }
 },
 "nbformat": 4,
 "nbformat_minor": 2
}
