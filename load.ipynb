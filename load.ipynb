{
 "cells": [
  {
   "cell_type": "code",
   "execution_count": 1,
   "metadata": {},
   "outputs": [
    {
     "name": "stderr",
     "output_type": "stream",
     "text": [
      "2024-04-02 23:48:43.120794: E external/local_xla/xla/stream_executor/cuda/cuda_dnn.cc:9261] Unable to register cuDNN factory: Attempting to register factory for plugin cuDNN when one has already been registered\n",
      "2024-04-02 23:48:43.120827: E external/local_xla/xla/stream_executor/cuda/cuda_fft.cc:607] Unable to register cuFFT factory: Attempting to register factory for plugin cuFFT when one has already been registered\n",
      "2024-04-02 23:48:43.122564: E external/local_xla/xla/stream_executor/cuda/cuda_blas.cc:1515] Unable to register cuBLAS factory: Attempting to register factory for plugin cuBLAS when one has already been registered\n",
      "2024-04-02 23:48:44.173346: W tensorflow/compiler/tf2tensorrt/utils/py_utils.cc:38] TF-TRT Warning: Could not find TensorRT\n",
      "/root/miniconda3/envs/octo/lib/python3.10/site-packages/tqdm/auto.py:21: TqdmWarning: IProgress not found. Please update jupyter and ipywidgets. See https://ipywidgets.readthedocs.io/en/stable/user_install.html\n",
      "  from .autonotebook import tqdm as notebook_tqdm\n"
     ]
    },
    {
     "name": "stdout",
     "output_type": "stream",
     "text": [
      "\n",
      "This model is trained with a window size of 2, predicting 7 dimensional actions 4 steps into the future.\n",
      "Observations and tasks conform to the following spec:\n",
      "\n",
      "Observations: {\n",
      "    image_primary: ('batch', 'history_window', 256, 256, 3),\n",
      "    image_wrist: ('batch', 'history_window', 128, 128, 3),\n",
      "}\n",
      "Tasks: {\n",
      "    image_primary: ('batch', 256, 256, 3),\n",
      "    image_wrist: ('batch', 128, 128, 3),\n",
      "    language_instruction: {\n",
      "        attention_mask: ('batch', 16),\n",
      "        input_ids: ('batch', 16),\n",
      "    },\n",
      "}\n",
      "\n",
      "At inference, you may pass in any subset of these observation and task keys, with a history window up to 2 timesteps.\n",
      "\n"
     ]
    }
   ],
   "source": [
    "from octo.model.octo_model import OctoModel\n",
    "model = OctoModel.load_pretrained(\"./weights/octo-base\")\n",
    "print(model.get_pretty_spec())"
   ]
  }
 ],
 "metadata": {
  "kernelspec": {
   "display_name": "octo",
   "language": "python",
   "name": "python3"
  },
  "language_info": {
   "codemirror_mode": {
    "name": "ipython",
    "version": 3
   },
   "file_extension": ".py",
   "mimetype": "text/x-python",
   "name": "python",
   "nbconvert_exporter": "python",
   "pygments_lexer": "ipython3",
   "version": "3.10.14"
  }
 },
 "nbformat": 4,
 "nbformat_minor": 2
}
