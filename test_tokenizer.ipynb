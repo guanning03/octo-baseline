{
 "cells": [
  {
   "cell_type": "code",
   "execution_count": 1,
   "metadata": {},
   "outputs": [
    {
     "name": "stderr",
     "output_type": "stream",
     "text": [
      "/tmp/ipykernel_165638/3333269111.py:3: DeprecationWarning: the imp module is deprecated in favour of importlib; see the module's documentation for alternative uses\n",
      "  import imp\n",
      "2024-05-16 13:50:25.500675: E external/local_xla/xla/stream_executor/cuda/cuda_dnn.cc:9261] Unable to register cuDNN factory: Attempting to register factory for plugin cuDNN when one has already been registered\n",
      "2024-05-16 13:50:25.500746: E external/local_xla/xla/stream_executor/cuda/cuda_fft.cc:607] Unable to register cuFFT factory: Attempting to register factory for plugin cuFFT when one has already been registered\n",
      "2024-05-16 13:50:25.501605: E external/local_xla/xla/stream_executor/cuda/cuda_blas.cc:1515] Unable to register cuBLAS factory: Attempting to register factory for plugin cuBLAS when one has already been registered\n",
      "2024-05-16 13:50:26.397271: W tensorflow/compiler/tf2tensorrt/utils/py_utils.cc:38] TF-TRT Warning: Could not find TensorRT\n",
      "/data/wulingxuan/miniconda3/lib/python3.9/site-packages/tqdm/auto.py:21: TqdmWarning: IProgress not found. Please update jupyter and ipywidgets. See https://ipywidgets.readthedocs.io/en/stable/user_install.html\n",
      "  from .autonotebook import tqdm as notebook_tqdm\n"
     ]
    }
   ],
   "source": [
    "import datetime\n",
    "from functools import partial\n",
    "import imp\n",
    "import os\n",
    "os.environ['CUDA_VISIBLE_DEVICES'] = '4, 5, 6, 7'\n",
    "import json\n",
    "import h5py\n",
    "from absl import app, flags, logging\n",
    "import flax\n",
    "from flax.traverse_util import flatten_dict\n",
    "import jax\n",
    "from jax.sharding import Mesh, NamedSharding, PartitionSpec\n",
    "from ml_collections import config_flags, ConfigDict\n",
    "import optax\n",
    "import tensorflow as tf\n",
    "import tqdm\n",
    "import wandb\n",
    "from octo.data.utils.format import standardize_pytree\n",
    "import pdb\n",
    "from octo.model.components.tokenizers import LowdimObsTokenizer\n",
    "from octo.data.dataset import make_single_dataset\n",
    "from octo.model.octo_model import OctoModel\n",
    "from octo.utils.jax_utils import initialize_compilation_cache\n",
    "from octo.utils.spec import ModuleSpec\n",
    "from octo.utils.train_callbacks import (\n",
    "    RolloutVisualizationCallback,\n",
    "    SaveCallback,\n",
    "    ValidationCallback,\n",
    "    VisualizationCallback,\n",
    ")\n",
    "from octo.utils.train_utils import (\n",
    "    check_config_diff,\n",
    "    create_optimizer,\n",
    "    format_name_with_config,\n",
    "    merge_params,\n",
    "    process_text,\n",
    "    Timer,\n",
    "    TrainState,\n",
    ")\n",
    "from octo.model.components.action_heads import *\n",
    "import random\n",
    "import io\n",
    "from PIL import Image\n",
    "from octo.data.utils.format import pytree_display"
   ]
  },
  {
   "cell_type": "code",
   "execution_count": 2,
   "metadata": {},
   "outputs": [
    {
     "name": "stderr",
     "output_type": "stream",
     "text": [
      "2024-05-16 13:50:31.240879: W external/xla/xla/service/platform_util.cc:198] unable to create StreamExecutor for CUDA:3: failed initializing StreamExecutor for CUDA device ordinal 3: INTERNAL: failed call to cuDevicePrimaryCtxRetain: CUDA_ERROR_OUT_OF_MEMORY: out of memory; total memory reported: 25430786048\n",
      "2024-05-16 13:50:31.240945: W external/xla/xla/service/platform_util.cc:198] unable to create StreamExecutor for CUDA:1: failed initializing StreamExecutor for CUDA device ordinal 1: INTERNAL: failed call to cuDevicePrimaryCtxRetain: CUDA_ERROR_OUT_OF_MEMORY: out of memory; total memory reported: 25430786048\n",
      "2024-05-16 13:50:31.240996: W external/xla/xla/service/platform_util.cc:198] unable to create StreamExecutor for CUDA:2: failed initializing StreamExecutor for CUDA device ordinal 2: INTERNAL: failed call to cuDevicePrimaryCtxRetain: CUDA_ERROR_OUT_OF_MEMORY: out of memory; total memory reported: 25430786048\n",
      "2024-05-16 13:50:31.317639: W external/xla/xla/service/platform_util.cc:198] unable to create StreamExecutor for CUDA:0: failed initializing StreamExecutor for CUDA device ordinal 0: INTERNAL: failed call to cuDevicePrimaryCtxRetain: CUDA_ERROR_OUT_OF_MEMORY: out of memory; total memory reported: 25430786048\n",
      "WARNING:jax._src.xla_bridge:CUDA backend failed to initialize: INTERNAL: no supported devices found for platform CUDA (Set TF_CPP_MIN_LOG_LEVEL=0 and rerun for more info.)\n",
      "/data/wulingxuan/miniconda3/lib/python3.9/site-packages/huggingface_hub/file_download.py:1132: FutureWarning: `resume_download` is deprecated and will be removed in version 1.0.0. Downloads always resume when possible. If you want to force a new download, use `force_download=True`.\n",
      "  warnings.warn(\n",
      "/data/wulingxuan/miniconda3/lib/python3.9/site-packages/huggingface_hub/file_download.py:1132: FutureWarning: `resume_download` is deprecated and will be removed in version 1.0.0. Downloads always resume when possible. If you want to force a new download, use `force_download=True`.\n",
      "  warnings.warn(\n"
     ]
    }
   ],
   "source": [
    "text_processor = OctoModel.load_pretrained('/mnt/data_x2/wulingxuan/robot/octo-small/').text_processor"
   ]
  },
  {
   "cell_type": "code",
   "execution_count": 3,
   "metadata": {},
   "outputs": [
    {
     "data": {
      "text/plain": [
       "{'input_ids': array([[    3,  4868,     8, 24810,    11,   557, 28968,  1405,    13,\n",
       "           280,     6,  1742,   113,  1961,     3,     1]]),\n",
       " 'attention_mask': array([[1, 1, 1, 1, 1, 1, 1, 1, 1, 1, 1, 1, 1, 1, 1, 1]])}"
      ]
     },
     "execution_count": 3,
     "metadata": {},
     "output_type": "execute_result"
    }
   ],
   "source": [
    "text_processor.encode('Despite the unpredictable and often chaotic nature of life, individuals who maintain a positive outlook, practice mindfulness, and engage in continuous learning and self-improvement are more likely to navigate challenges successfully, achieve their goals, and lead fulfilling lives filled with meaningful relationships and personal accomplishments.')"
   ]
  },
  {
   "cell_type": "code",
   "execution_count": 4,
   "metadata": {},
   "outputs": [
    {
     "data": {
      "text/plain": [
       "{'input_ids': array([[    3,  4868,     8, 24810,    11,   557, 28968,  1405,    13,\n",
       "           280,     6,  1742,   113,  1961,     3,     1]]),\n",
       " 'attention_mask': array([[1, 1, 1, 1, 1, 1, 1, 1, 1, 1, 1, 1, 1, 1, 1, 1]])}"
      ]
     },
     "execution_count": 4,
     "metadata": {},
     "output_type": "execute_result"
    }
   ],
   "source": [
    "text_processor.encode('Despite the unpredictable and often chaotic nature of life, individuals who maintain a positive outlook, practice mindfulness, and engage in continuous learning and self-improvement are more likely to navigate challenges successfully, achieve their goals.')"
   ]
  }
 ],
 "metadata": {
  "kernelspec": {
   "display_name": "base",
   "language": "python",
   "name": "python3"
  },
  "language_info": {
   "codemirror_mode": {
    "name": "ipython",
    "version": 3
   },
   "file_extension": ".py",
   "mimetype": "text/x-python",
   "name": "python",
   "nbconvert_exporter": "python",
   "pygments_lexer": "ipython3",
   "version": "3.9.17"
  }
 },
 "nbformat": 4,
 "nbformat_minor": 2
}
